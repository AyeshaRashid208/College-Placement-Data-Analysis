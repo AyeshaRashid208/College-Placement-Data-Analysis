{
 "cells": [
  {
   "cell_type": "markdown",
   "id": "16b9707b",
   "metadata": {},
   "source": [
    "## Placement Data Analysis\n",
    "Perform the following necessary tasks\n",
    "- Data Description\n",
    "- Goal\n",
    "- Import and Load Data\n",
    "- Understanding of the data\n",
    "    - Top view\n",
    "    - Bottom view\n",
    "    - Data-type of columns\n",
    "    - Check missing values\n",
    "    - Descriptive View of data\n",
    "    - Sample of 5 rows\n",
    "- Exploratory Data Analysis\n",
    "    - Skewness of Numerical Columns\n",
    "    - Correlation of all the numerical columns\n",
    "    - Univariant Analysis of Numerical Columns\n",
    "        - Univariate enumerative Plots\n",
    "            - Scatter Plot\n",
    "            - Line Plot with markers\n",
    "            - Strip plot\n",
    "            - Swarm plot\n",
    "        - Uni-variate summary plots\n",
    "            - Histogram\n",
    "            - Density Plot\n",
    "            - Boxplot\n",
    "            - Distplot\n",
    "            - Violin plot\n",
    "    - Univariant Analysis of Categorical Columns\n",
    "        - Barplot\n",
    "        - Pie Chart\n",
    "        - Countplot\n",
    "    \n",
    "    - Bivariant Analysis\n",
    "        - Numerical to Numerical\n",
    "            - Scatter Plot\n",
    "            - JointPlot and JointPlot with kind = `hex` or `kde`\n",
    "            - lineplot\n",
    "        - Numerical to Categorical\n",
    "            - Barplot\n",
    "            - Boxplot\n",
    "            - Distplot\n",
    "        - Categorical to Categorical\n",
    "            - Heatmap\n",
    "            - Clustermap\n",
    "            - Pair plot with `hue` parameter\n",
    "    - Multi-Variant Analysis\n",
    "        - Scatter Plot\n",
    "        - Boxplot\n",
    "        - Countplot\n",
    "        - Barplot\n",
    "        - pairplot\n",
    "        - Correlation Matrix\n",
    "- Data Cleansing and Preprocessing\n",
    "    - Missing Values\n",
    "        - Remove Missing values\n",
    "        - Impute missing values using mean, median, mode\n",
    "- Data Exploration and Statistical Analysis\n",
    "- Try to discover ten your own questions"
   ]
  },
  {
   "cell_type": "markdown",
   "id": "d567e241",
   "metadata": {},
   "source": [
    "## Data Description  \n"
   ]
  },
  {
   "cell_type": "code",
   "execution_count": null,
   "id": "75790cc8",
   "metadata": {},
   "outputs": [],
   "source": [
    "# HERE WRITE YOUR ANSWER"
   ]
  },
  {
   "cell_type": "code",
   "execution_count": null,
   "id": "00fa0ea1",
   "metadata": {},
   "outputs": [],
   "source": []
  },
  {
   "cell_type": "markdown",
   "id": "2d9c9d81",
   "metadata": {},
   "source": [
    "## Goal"
   ]
  },
  {
   "cell_type": "code",
   "execution_count": null,
   "id": "d8d5aa1e",
   "metadata": {},
   "outputs": [],
   "source": [
    "# HERE WRITE YOUR ANSWER"
   ]
  },
  {
   "cell_type": "code",
   "execution_count": null,
   "id": "0d6225ae",
   "metadata": {},
   "outputs": [],
   "source": []
  },
  {
   "cell_type": "markdown",
   "id": "013e0a95",
   "metadata": {},
   "source": [
    "## Importing and Loading Dataset"
   ]
  },
  {
   "cell_type": "code",
   "execution_count": null,
   "id": "4493de4f",
   "metadata": {},
   "outputs": [],
   "source": [
    "# HERE WRITE YOUR ANSWER"
   ]
  },
  {
   "cell_type": "code",
   "execution_count": null,
   "id": "9a0dd205",
   "metadata": {},
   "outputs": [],
   "source": []
  },
  {
   "cell_type": "markdown",
   "id": "25845592",
   "metadata": {},
   "source": [
    "## Understanding of Data3"
   ]
  },
  {
   "cell_type": "code",
   "execution_count": null,
   "id": "a84f47ef",
   "metadata": {},
   "outputs": [],
   "source": [
    "# HERE WRITE YOUR ANSWER"
   ]
  },
  {
   "cell_type": "code",
   "execution_count": null,
   "id": "f558de8f",
   "metadata": {},
   "outputs": [],
   "source": []
  },
  {
   "cell_type": "markdown",
   "id": "d6a91866",
   "metadata": {},
   "source": [
    "## Exploratory Data Analysis"
   ]
  },
  {
   "cell_type": "code",
   "execution_count": null,
   "id": "6e3a0b7a",
   "metadata": {},
   "outputs": [],
   "source": [
    "# HERE WRITE YOUR ANSWER"
   ]
  },
  {
   "cell_type": "code",
   "execution_count": null,
   "id": "cdceea87",
   "metadata": {},
   "outputs": [],
   "source": []
  },
  {
   "cell_type": "markdown",
   "id": "54bd4687",
   "metadata": {},
   "source": [
    "## Data Cleansing and Data-Preprocessing\n",
    "![](Data-Preprocessing-1-2048x1014.png)"
   ]
  },
  {
   "cell_type": "code",
   "execution_count": null,
   "id": "0f971aef",
   "metadata": {},
   "outputs": [],
   "source": [
    "# HERE WRITE YOUR ANSWER"
   ]
  },
  {
   "cell_type": "code",
   "execution_count": null,
   "id": "96962965",
   "metadata": {},
   "outputs": [],
   "source": []
  },
  {
   "cell_type": "markdown",
   "id": "bffdd41b",
   "metadata": {},
   "source": [
    "## Data Exploration and Statistical Analysis\n",
    "Describe one line summary after each operation"
   ]
  },
  {
   "cell_type": "code",
   "execution_count": null,
   "id": "069139d7",
   "metadata": {},
   "outputs": [],
   "source": [
    "# Checking the number of rows and columns"
   ]
  },
  {
   "cell_type": "code",
   "execution_count": null,
   "id": "43b2634c",
   "metadata": {},
   "outputs": [],
   "source": [
    "# Checking Null & Duplicate Values"
   ]
  },
  {
   "cell_type": "code",
   "execution_count": null,
   "id": "e8f63441",
   "metadata": {},
   "outputs": [],
   "source": [
    "# Shows the data type of each variable"
   ]
  },
  {
   "cell_type": "code",
   "execution_count": null,
   "id": "89b36393",
   "metadata": {},
   "outputs": [],
   "source": [
    "# Gives the statistical Summary of numeric Variables"
   ]
  },
  {
   "cell_type": "code",
   "execution_count": null,
   "id": "bf16bd70",
   "metadata": {},
   "outputs": [],
   "source": [
    "# Display total number of males and females"
   ]
  },
  {
   "cell_type": "code",
   "execution_count": null,
   "id": "7e5f0e37",
   "metadata": {},
   "outputs": [],
   "source": [
    "# Display total number students of SSC & HSC Boards"
   ]
  },
  {
   "cell_type": "code",
   "execution_count": null,
   "id": "36591cf0",
   "metadata": {},
   "outputs": [],
   "source": [
    "# Display percentage of students as per their `12th Stream`"
   ]
  },
  {
   "cell_type": "code",
   "execution_count": null,
   "id": "0262fb29",
   "metadata": {},
   "outputs": [],
   "source": [
    "# Display percentage of students as per their `Degree Stream`"
   ]
  },
  {
   "cell_type": "code",
   "execution_count": null,
   "id": "81e85f2f",
   "metadata": {},
   "outputs": [],
   "source": [
    "# Display Total number of students having work experience"
   ]
  },
  {
   "cell_type": "code",
   "execution_count": null,
   "id": "4153d7e7",
   "metadata": {},
   "outputs": [],
   "source": [
    "# How many students have Specialization in Marketing-finance and in Marketing-HR?"
   ]
  },
  {
   "cell_type": "code",
   "execution_count": null,
   "id": "0f0cc746",
   "metadata": {},
   "outputs": [],
   "source": [
    "# How many students got placed as compared to not placed students?"
   ]
  },
  {
   "cell_type": "code",
   "execution_count": null,
   "id": "fb22eeab",
   "metadata": {},
   "outputs": [],
   "source": []
  },
  {
   "cell_type": "code",
   "execution_count": null,
   "id": "31025ec6",
   "metadata": {},
   "outputs": [],
   "source": []
  },
  {
   "cell_type": "markdown",
   "id": "5b418cb4",
   "metadata": {},
   "source": [
    "## Try to discover ten your own questions"
   ]
  },
  {
   "cell_type": "code",
   "execution_count": null,
   "id": "3565c27b",
   "metadata": {},
   "outputs": [],
   "source": []
  }
 ],
 "metadata": {
  "kernelspec": {
   "display_name": "Python 3 (ipykernel)",
   "language": "python",
   "name": "python3"
  },
  "language_info": {
   "codemirror_mode": {
    "name": "ipython",
    "version": 3
   },
   "file_extension": ".py",
   "mimetype": "text/x-python",
   "name": "python",
   "nbconvert_exporter": "python",
   "pygments_lexer": "ipython3",
   "version": "3.8.10"
  }
 },
 "nbformat": 4,
 "nbformat_minor": 5
}
